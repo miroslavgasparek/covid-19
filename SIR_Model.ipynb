{
 "cells": [
  {
   "cell_type": "markdown",
   "metadata": {},
   "source": [
    "### Modelling Covid-19 outbreak in Slovakia \n",
    "Miroslav Gasparek, 22 March 2020"
   ]
  },
  {
   "cell_type": "code",
   "execution_count": 129,
   "metadata": {},
   "outputs": [],
   "source": [
    "import numpy as np"
   ]
  },
  {
   "cell_type": "code",
   "execution_count": 223,
   "metadata": {},
   "outputs": [],
   "source": [
    "### Parameters\n",
    "tau = 2/3 # Proportion of time people interact at their home location\n",
    "alpha = 1 # Mobility parameter\n",
    "gamma = 0.1 # Inverse duration of infection \n",
    "\n",
    "### Initial conditions\n",
    "S = np.array([10,30,10])\n",
    "I = np.array([5, 10, 5])\n",
    "R = np.array([0,0,0])\n",
    "N = np.array([15, 40, 15])\n",
    "\n",
    "### Vector of infection rates\n",
    "beta_vec = np.array([0.5, 0.1, 0.3])\n",
    "\n",
    "### Mobility matrix \n",
    "OD = np.array([[3,5,1], [20,3,5], [2,10,3]])\n",
    "\n",
    "### Rescaling\n",
    "x = I / N # Relative No. of susceptibles\n",
    "y = S / N # Relative No, of infected\n",
    "\n",
    "### Simulation parameters \n",
    "n = 10 # Number of days\n",
    "\n",
    "# Get the number of municipalities\n",
    "S_rows = np.shape(S)[0]\n",
    "I_rows = np.shape(I)[0]\n",
    "R_rows = np.shape(R)[0]\n",
    "\n",
    "x_rows = np.shape(x)[0]\n",
    "y_rows = np.shape(y)[0]\n",
    "\n",
    "\n",
    "### Pre-allocate the matrices \n",
    "S_mat = np.zeros((S_rows, n))\n",
    "I_mat = np.zeros((I_rows, n))\n",
    "R_mat = np.zeros((R_rows, n))\n",
    "\n",
    "x_mat = np.zeros((x_rows, n))\n",
    "y_mat = np.zeros((y_rows, n))\n",
    "\n",
    "### Initialize the matrix\n",
    "S_mat[:,0] = S\n",
    "I_mat[:,0] = I\n",
    "R_mat[:,0] = R"
   ]
  },
  {
   "cell_type": "code",
   "execution_count": 224,
   "metadata": {},
   "outputs": [],
   "source": [
    "### Here we loop over to solve the difference equation\n",
    "for i in range(n-1):\n",
    "    \n",
    "    # Define the second term of the first equation\n",
    "    first_term = tau*(np.multiply(np.multiply(S_mat[:,i], I_mat[:,i]),beta_vec))/N\n",
    "    \n",
    "    # Define the second term\n",
    "    second_term_1 = alpha*(1-tau)*(S_mat[:,i] - np.multiply(y_mat[:,i],(OD.sum(axis=0) - np.diag(OD)) ))\n",
    "    second_term_2 = np.matmul(OD,(beta_vec*x_mat[:,i]))-np.diag(OD)*(beta_vec*x_mat[:,i])\n",
    "    second_term_3 = (I_mat[:,i] - x_mat[:,i]*(OD.sum(axis=0) - np.diag(OD))) * beta_vec\n",
    "    second_term_den = N - (OD.sum(axis=0) - np.diag(OD)) + (OD.sum(axis=1) - np.diag(OD))\n",
    "    \n",
    "    second_term = (second_term_1*(second_term_2+second_term_3))/second_term_den\n",
    "    \n",
    "    # Define the third term\n",
    "    third_term_1 = alpha*(1-tau)*y_mat[:,i]\n",
    "    third_term_2 = np.matmul((OD.sum(axis=0) - np.diag(OD)), (second_term_2+second_term_3)/second_term_den)\n",
    "    \n",
    "    third_term = np.multiply(third_term_1, third_term_2)\n",
    "    \n",
    "    # Iterate over the Susceptible\n",
    "    S_mat[:,i+1] = S_mat[:,i] - first_term - second_term - third_term\n",
    "    I_mat[:,i+1] = I_mat[:,i] + first_term - gamma*I_mat[:,i] + second_term + third_term\n",
    "    R_mat[:,i+1] = R_mat[:,i] + gamma*I_mat[:,i]\n",
    "    \n",
    "    # Iterate over the normalized values\n",
    "    x_mat[:,i+1] = I_mat[:,i+1]/N\n",
    "    y_mat[:,i+1] = S_mat[:,i+1]/N"
   ]
  },
  {
   "cell_type": "code",
   "execution_count": 226,
   "metadata": {},
   "outputs": [
    {
     "data": {
      "text/plain": [
       "array([[ 5.00000000e+00, -2.72222222e+00, -8.41853797e+00,\n",
       "        -2.86261247e+01, -1.54743568e+02, -2.82657007e+03,\n",
       "        -8.12098266e+05, -6.58699506e+10, -4.29358718e+20,\n",
       "        -1.79632732e+40],\n",
       "       [ 1.00000000e+01,  9.70000000e+00,  4.50133923e+00,\n",
       "        -9.49894512e+00, -7.10311752e+01, -8.39451652e+02,\n",
       "        -1.14311038e+05, -4.17900287e+09, -1.22118000e+19,\n",
       "        -2.28077794e+38],\n",
       "       [ 5.00000000e+00,  5.40476190e+00,  1.78428315e+00,\n",
       "        -1.07870297e+01, -9.44453045e+01, -2.13950440e+03,\n",
       "        -7.56426646e+05, -7.70726689e+10, -6.47411011e+20,\n",
       "        -3.61642965e+40]])"
      ]
     },
     "execution_count": 226,
     "metadata": {},
     "output_type": "execute_result"
    }
   ],
   "source": [
    "I_mat"
   ]
  },
  {
   "cell_type": "code",
   "execution_count": null,
   "metadata": {},
   "outputs": [],
   "source": []
  }
 ],
 "metadata": {
  "kernelspec": {
   "display_name": "Python 3",
   "language": "python",
   "name": "python3"
  },
  "language_info": {
   "codemirror_mode": {
    "name": "ipython",
    "version": 3
   },
   "file_extension": ".py",
   "mimetype": "text/x-python",
   "name": "python",
   "nbconvert_exporter": "python",
   "pygments_lexer": "ipython3",
   "version": "3.6.5"
  }
 },
 "nbformat": 4,
 "nbformat_minor": 2
}
